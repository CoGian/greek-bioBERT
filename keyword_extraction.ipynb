{
  "nbformat": 4,
  "nbformat_minor": 0,
  "metadata": {
    "accelerator": "GPU",
    "colab": {
      "name": "keyword_extraction",
      "provenance": [],
      "collapsed_sections": [
        "MO1fKXnl5zp6"
      ],
      "toc_visible": true,
      "include_colab_link": true
    },
    "kernelspec": {
      "display_name": "Python 3",
      "name": "python3"
    }
  },
  "cells": [
    {
      "cell_type": "markdown",
      "metadata": {
        "id": "view-in-github",
        "colab_type": "text"
      },
      "source": [
        "<a href=\"https://colab.research.google.com/github/CoGian/keyword-extraction-with-greekBERT/blob/main/keyword_extraction.ipynb\" target=\"_parent\"><img src=\"https://colab.research.google.com/assets/colab-badge.svg\" alt=\"Open In Colab\"/></a>"
      ]
    },
    {
      "cell_type": "markdown",
      "metadata": {
        "id": "6R187ZP_551C"
      },
      "source": [
        "# Load Requirements"
      ]
    },
    {
      "cell_type": "code",
      "metadata": {
        "colab": {
          "base_uri": "https://localhost:8080/"
        },
        "id": "e1LkTTMdQJS7",
        "outputId": "66c7c7dc-31f1-4b7b-c089-ef9a4c216d13"
      },
      "source": [
        "!git clone https://github.com/CoGian/keyword-extraction-with-greekBERT.git"
      ],
      "execution_count": null,
      "outputs": [
        {
          "output_type": "stream",
          "text": [
            "Cloning into 'keyword-extraction-with-greekBERT'...\n",
            "remote: Enumerating objects: 38, done.\u001b[K\n",
            "remote: Counting objects: 100% (38/38), done.\u001b[K\n",
            "remote: Compressing objects: 100% (27/27), done.\u001b[K\n",
            "remote: Total 336 (delta 20), reused 25 (delta 11), pack-reused 298\u001b[K\n",
            "Receiving objects: 100% (336/336), 4.89 MiB | 10.91 MiB/s, done.\n",
            "Resolving deltas: 100% (198/198), done.\n"
          ],
          "name": "stdout"
        }
      ]
    },
    {
      "cell_type": "code",
      "metadata": {
        "colab": {
          "base_uri": "https://localhost:8080/"
        },
        "id": "MS6aAAXfYKsd",
        "outputId": "00875908-d670-418b-8e4c-f38225c2a2b0"
      },
      "source": [
        "!CFLAGS=\"-Wno-narrowing\" pip install cld2-cffi\n",
        "!cd keyword-extraction-with-greekBERT; pip install -r requirements.txt\n",
        "!python -m spacy download el_core_news_md"
      ],
      "execution_count": null,
      "outputs": [
        {
          "output_type": "stream",
          "text": [
            "Collecting cld2-cffi\n",
            "\u001b[?25l  Downloading https://files.pythonhosted.org/packages/52/6d/044789e730141bcda2a7368836f714684a7d13bd44a2a33b387cb31b4335/cld2-cffi-0.1.4.tar.gz (17.6MB)\n",
            "\u001b[K     |████████████████████████████████| 17.6MB 213kB/s \n",
            "\u001b[?25hRequirement already satisfied: cffi in /usr/local/lib/python3.6/dist-packages (from cld2-cffi) (1.14.4)\n",
            "Requirement already satisfied: six in /usr/local/lib/python3.6/dist-packages (from cld2-cffi) (1.15.0)\n",
            "Requirement already satisfied: pycparser in /usr/local/lib/python3.6/dist-packages (from cffi->cld2-cffi) (2.20)\n",
            "Building wheels for collected packages: cld2-cffi\n",
            "  Building wheel for cld2-cffi (setup.py) ... \u001b[?25l\u001b[?25hdone\n",
            "  Created wheel for cld2-cffi: filename=cld2_cffi-0.1.4-cp36-cp36m-linux_x86_64.whl size=12702795 sha256=3bbf5165f8cc6342a39b4a1c3684f60501cda2d5dfc2fd91c7f6ba312eaa44a6\n",
            "  Stored in directory: /root/.cache/pip/wheels/ac/a3/fa/af23f439693a5c3da8fe0942cfc5e57656799d24e6bb8c9c31\n",
            "Successfully built cld2-cffi\n",
            "Installing collected packages: cld2-cffi\n",
            "Successfully installed cld2-cffi-0.1.4\n",
            "Collecting absl-py==0.11.0\n",
            "\u001b[?25l  Downloading https://files.pythonhosted.org/packages/bc/58/0aa6fb779dc69cfc811df3398fcbeaeefbf18561b6e36b185df0782781cc/absl_py-0.11.0-py3-none-any.whl (127kB)\n",
            "\u001b[K     |████████████████████████████████| 133kB 9.8MB/s \n",
            "\u001b[?25hRequirement already satisfied: argon2-cffi==20.1.0 in /usr/local/lib/python3.6/dist-packages (from -r requirements.txt (line 2)) (20.1.0)\n",
            "Requirement already satisfied: astunparse==1.6.3 in /usr/local/lib/python3.6/dist-packages (from -r requirements.txt (line 3)) (1.6.3)\n",
            "Requirement already satisfied: async-generator==1.10 in /usr/local/lib/python3.6/dist-packages (from -r requirements.txt (line 4)) (1.10)\n",
            "Requirement already satisfied: attrs==20.3.0 in /usr/local/lib/python3.6/dist-packages (from -r requirements.txt (line 5)) (20.3.0)\n",
            "Collecting Automat==20.2.0\n",
            "  Downloading https://files.pythonhosted.org/packages/dd/83/5f6f3c1a562674d65efc320257bdc0873ec53147835aeef7762fe7585273/Automat-20.2.0-py2.py3-none-any.whl\n",
            "Requirement already satisfied: backcall==0.2.0 in /usr/local/lib/python3.6/dist-packages (from -r requirements.txt (line 7)) (0.2.0)\n",
            "Requirement already satisfied: bleach==3.2.1 in /usr/local/lib/python3.6/dist-packages (from -r requirements.txt (line 8)) (3.2.1)\n",
            "Collecting blis==0.7.4\n",
            "\u001b[?25l  Downloading https://files.pythonhosted.org/packages/bb/9f/e526cd764e2a2cf6958a1389a59c42acda7a65f24949256100cc94c2ff6d/blis-0.7.4-cp36-cp36m-manylinux2014_x86_64.whl (9.8MB)\n",
            "\u001b[K     |████████████████████████████████| 9.8MB 35.4MB/s \n",
            "\u001b[?25hRequirement already satisfied: cachetools==4.2.0 in /usr/local/lib/python3.6/dist-packages (from -r requirements.txt (line 10)) (4.2.0)\n",
            "Requirement already satisfied: catalogue==1.0.0 in /usr/local/lib/python3.6/dist-packages (from -r requirements.txt (line 11)) (1.0.0)\n",
            "Requirement already satisfied: certifi==2020.12.5 in /usr/local/lib/python3.6/dist-packages (from -r requirements.txt (line 12)) (2020.12.5)\n",
            "Requirement already satisfied: cffi==1.14.4 in /usr/local/lib/python3.6/dist-packages (from -r requirements.txt (line 13)) (1.14.4)\n",
            "Collecting chardet==4.0.0\n",
            "\u001b[?25l  Downloading https://files.pythonhosted.org/packages/19/c7/fa589626997dd07bd87d9269342ccb74b1720384a4d739a1872bd84fbe68/chardet-4.0.0-py2.py3-none-any.whl (178kB)\n",
            "\u001b[K     |████████████████████████████████| 184kB 56.7MB/s \n",
            "\u001b[?25hRequirement already satisfied: cld2-cffi==0.1.4 in /usr/local/lib/python3.6/dist-packages (from -r requirements.txt (line 15)) (0.1.4)\n",
            "Requirement already satisfied: click==7.1.2 in /usr/local/lib/python3.6/dist-packages (from -r requirements.txt (line 16)) (7.1.2)\n",
            "Collecting constantly==15.1.0\n",
            "  Downloading https://files.pythonhosted.org/packages/b9/65/48c1909d0c0aeae6c10213340ce682db01b48ea900a7d9fce7a7910ff318/constantly-15.1.0-py2.py3-none-any.whl\n",
            "Collecting coverage==5.3.1\n",
            "\u001b[?25l  Downloading https://files.pythonhosted.org/packages/76/43/421d81716e0379e886f9642354481c3e30d84fb2c1e9aceb3ee3d369422b/coverage-5.3.1-cp36-cp36m-manylinux2010_x86_64.whl (241kB)\n",
            "\u001b[K     |████████████████████████████████| 245kB 54.0MB/s \n",
            "\u001b[?25hCollecting cryptography==3.2.1\n",
            "\u001b[?25l  Downloading https://files.pythonhosted.org/packages/4c/a2/6565c5271a79e3c96d7a079053b4d8408a740d4bf365f0f5f244a807bd09/cryptography-3.2.1-cp35-abi3-manylinux2010_x86_64.whl (2.6MB)\n",
            "\u001b[K     |████████████████████████████████| 2.6MB 48.8MB/s \n",
            "\u001b[?25hCollecting cssselect==1.1.0\n",
            "  Downloading https://files.pythonhosted.org/packages/3b/d4/3b5c17f00cce85b9a1e6f91096e1cc8e8ede2e1be8e96b87ce1ed09e92c5/cssselect-1.1.0-py2.py3-none-any.whl\n",
            "Requirement already satisfied: cymem==2.0.5 in /usr/local/lib/python3.6/dist-packages (from -r requirements.txt (line 21)) (2.0.5)\n",
            "Requirement already satisfied: decorator==4.4.2 in /usr/local/lib/python3.6/dist-packages (from -r requirements.txt (line 22)) (4.4.2)\n",
            "Requirement already satisfied: defusedxml==0.6.0 in /usr/local/lib/python3.6/dist-packages (from -r requirements.txt (line 23)) (0.6.0)\n",
            "Collecting el-core-news-md@ https://github.com/explosion/spacy-models/releases/download/el_core_news_md-2.3.0/el_core_news_md-2.3.0.tar.gz\n",
            "\u001b[?25l  Downloading https://github.com/explosion/spacy-models/releases/download/el_core_news_md-2.3.0/el_core_news_md-2.3.0.tar.gz (44.0MB)\n",
            "\u001b[K     |████████████████████████████████| 44.1MB 148kB/s \n",
            "\u001b[?25hCollecting el-core-news-sm@ https://github.com/explosion/spacy-models/releases/download/el_core_news_sm-2.3.0/el_core_news_sm-2.3.0.tar.gz\n",
            "\u001b[?25l  Downloading https://github.com/explosion/spacy-models/releases/download/el_core_news_sm-2.3.0/el_core_news_sm-2.3.0.tar.gz (11.6MB)\n",
            "\u001b[K     |████████████████████████████████| 11.6MB 43.7MB/s \n",
            "\u001b[?25hRequirement already satisfied: entrypoints==0.3 in /usr/local/lib/python3.6/dist-packages (from -r requirements.txt (line 26)) (0.3)\n",
            "Requirement already satisfied: filelock==3.0.12 in /usr/local/lib/python3.6/dist-packages (from -r requirements.txt (line 27)) (3.0.12)\n",
            "Collecting fire==0.3.1\n",
            "\u001b[?25l  Downloading https://files.pythonhosted.org/packages/34/a7/0e22e70778aca01a52b9c899d9c145c6396d7b613719cd63db97ffa13f2f/fire-0.3.1.tar.gz (81kB)\n",
            "\u001b[K     |████████████████████████████████| 81kB 11.9MB/s \n",
            "\u001b[?25hRequirement already satisfied: flatbuffers==1.12 in /usr/local/lib/python3.6/dist-packages (from -r requirements.txt (line 29)) (1.12)\n",
            "Collecting future==0.18.2\n",
            "\u001b[?25l  Downloading https://files.pythonhosted.org/packages/45/0b/38b06fd9b92dc2b68d58b75f900e97884c45bedd2ff83203d933cf5851c9/future-0.18.2.tar.gz (829kB)\n",
            "\u001b[K     |████████████████████████████████| 829kB 51.3MB/s \n",
            "\u001b[?25hRequirement already satisfied: gast==0.3.3 in /usr/local/lib/python3.6/dist-packages (from -r requirements.txt (line 31)) (0.3.3)\n",
            "Collecting gensim==3.8.3\n",
            "\u001b[?25l  Downloading https://files.pythonhosted.org/packages/2b/e0/fa6326251692056dc880a64eb22117e03269906ba55a6864864d24ec8b4e/gensim-3.8.3-cp36-cp36m-manylinux1_x86_64.whl (24.2MB)\n",
            "\u001b[K     |████████████████████████████████| 24.2MB 70.6MB/s \n",
            "\u001b[?25hCollecting google-auth==1.24.0\n",
            "\u001b[?25l  Downloading https://files.pythonhosted.org/packages/3e/fd/df1b3a59aca9537a187413651ad63b290d165559150a868a298fa837fe7b/google_auth-1.24.0-py2.py3-none-any.whl (114kB)\n",
            "\u001b[K     |████████████████████████████████| 122kB 61.1MB/s \n",
            "\u001b[?25hRequirement already satisfied: google-auth-oauthlib==0.4.2 in /usr/local/lib/python3.6/dist-packages (from -r requirements.txt (line 34)) (0.4.2)\n",
            "Requirement already satisfied: google-pasta==0.2.0 in /usr/local/lib/python3.6/dist-packages (from -r requirements.txt (line 35)) (0.2.0)\n",
            "Collecting graphviz==0.16\n",
            "  Downloading https://files.pythonhosted.org/packages/86/86/89ba50ba65928001d3161f23bfa03945ed18ea13a1d1d44a772ff1fa4e7a/graphviz-0.16-py2.py3-none-any.whl\n",
            "Collecting greek-stemmer==0.1.1\n",
            "  Downloading https://files.pythonhosted.org/packages/9c/89/6a7e01dd15100bb4c8b64a9ed3a2afb188cbbc71911545e74463811fba3b/greek_stemmer-0.1.1.tar.gz\n",
            "Requirement already satisfied: grpcio==1.32.0 in /usr/local/lib/python3.6/dist-packages (from -r requirements.txt (line 38)) (1.32.0)\n",
            "Requirement already satisfied: h5py==2.10.0 in /usr/local/lib/python3.6/dist-packages (from -r requirements.txt (line 39)) (2.10.0)\n",
            "Collecting hyperlink==20.0.1\n",
            "\u001b[?25l  Downloading https://files.pythonhosted.org/packages/88/a5/74f77547e9b175eb894d4fec5c76b0c8176c045e5bf3ac6a4d4d3feab4bb/hyperlink-20.0.1-py2.py3-none-any.whl (48kB)\n",
            "\u001b[K     |████████████████████████████████| 51kB 9.5MB/s \n",
            "\u001b[?25hRequirement already satisfied: idna==2.10 in /usr/local/lib/python3.6/dist-packages (from -r requirements.txt (line 41)) (2.10)\n",
            "Collecting incremental==17.5.0\n",
            "  Downloading https://files.pythonhosted.org/packages/f5/1d/c98a587dc06e107115cf4a58b49de20b19222c83d75335a192052af4c4b7/incremental-17.5.0-py2.py3-none-any.whl\n",
            "Collecting ipykernel==5.4.3\n",
            "\u001b[?25l  Downloading https://files.pythonhosted.org/packages/7d/cc/e8908bbb2921732f6851ebbbe4b77b925aab62e644ab9402f21c84fa6107/ipykernel-5.4.3-py3-none-any.whl (120kB)\n",
            "\u001b[K     |████████████████████████████████| 122kB 46.9MB/s \n",
            "\u001b[31mERROR: Could not find a version that satisfies the requirement ipython==7.19.0 (from -r requirements.txt (line 44)) (from versions: 0.10, 0.10.1, 0.10.2, 0.11, 0.12, 0.12.1, 0.13, 0.13.1, 0.13.2, 1.0.0, 1.1.0, 1.2.0, 1.2.1, 2.0.0, 2.1.0, 2.2.0, 2.3.0, 2.3.1, 2.4.0, 2.4.1, 3.0.0, 3.1.0, 3.2.0, 3.2.1, 3.2.2, 3.2.3, 4.0.0b1, 4.0.0, 4.0.1, 4.0.2, 4.0.3, 4.1.0rc1, 4.1.0rc2, 4.1.0, 4.1.1, 4.1.2, 4.2.0, 4.2.1, 5.0.0b1, 5.0.0b2, 5.0.0b3, 5.0.0b4, 5.0.0rc1, 5.0.0, 5.1.0, 5.2.0, 5.2.1, 5.2.2, 5.3.0, 5.4.0, 5.4.1, 5.5.0, 5.6.0, 5.7.0, 5.8.0, 5.9.0, 5.10.0, 6.0.0rc1, 6.0.0, 6.1.0, 6.2.0, 6.2.1, 6.3.0, 6.3.1, 6.4.0, 6.5.0, 7.0.0b1, 7.0.0rc1, 7.0.0, 7.0.1, 7.1.0, 7.1.1, 7.2.0, 7.3.0, 7.4.0, 7.5.0, 7.6.0, 7.6.1, 7.7.0, 7.8.0, 7.9.0, 7.10.0, 7.10.1, 7.10.2, 7.11.0, 7.11.1, 7.12.0, 7.13.0, 7.14.0, 7.15.0, 7.16.0, 7.16.1)\u001b[0m\n",
            "\u001b[31mERROR: No matching distribution found for ipython==7.19.0 (from -r requirements.txt (line 44))\u001b[0m\n",
            "\u001b[?25hCollecting el_core_news_md==2.2.5\n",
            "\u001b[?25l  Downloading https://github.com/explosion/spacy-models/releases/download/el_core_news_md-2.2.5/el_core_news_md-2.2.5.tar.gz (132.6MB)\n",
            "\u001b[K     |████████████████████████████████| 132.6MB 1.1MB/s \n",
            "\u001b[?25hRequirement already satisfied: spacy>=2.2.2 in /usr/local/lib/python3.6/dist-packages (from el_core_news_md==2.2.5) (2.2.4)\n",
            "Requirement already satisfied: blis<0.5.0,>=0.4.0 in /usr/local/lib/python3.6/dist-packages (from spacy>=2.2.2->el_core_news_md==2.2.5) (0.4.1)\n",
            "Requirement already satisfied: srsly<1.1.0,>=1.0.2 in /usr/local/lib/python3.6/dist-packages (from spacy>=2.2.2->el_core_news_md==2.2.5) (1.0.5)\n",
            "Requirement already satisfied: setuptools in /usr/local/lib/python3.6/dist-packages (from spacy>=2.2.2->el_core_news_md==2.2.5) (51.3.3)\n",
            "Requirement already satisfied: cymem<2.1.0,>=2.0.2 in /usr/local/lib/python3.6/dist-packages (from spacy>=2.2.2->el_core_news_md==2.2.5) (2.0.5)\n",
            "Requirement already satisfied: thinc==7.4.0 in /usr/local/lib/python3.6/dist-packages (from spacy>=2.2.2->el_core_news_md==2.2.5) (7.4.0)\n",
            "Requirement already satisfied: wasabi<1.1.0,>=0.4.0 in /usr/local/lib/python3.6/dist-packages (from spacy>=2.2.2->el_core_news_md==2.2.5) (0.8.0)\n",
            "Requirement already satisfied: catalogue<1.1.0,>=0.0.7 in /usr/local/lib/python3.6/dist-packages (from spacy>=2.2.2->el_core_news_md==2.2.5) (1.0.0)\n",
            "Requirement already satisfied: murmurhash<1.1.0,>=0.28.0 in /usr/local/lib/python3.6/dist-packages (from spacy>=2.2.2->el_core_news_md==2.2.5) (1.0.5)\n",
            "Requirement already satisfied: requests<3.0.0,>=2.13.0 in /usr/local/lib/python3.6/dist-packages (from spacy>=2.2.2->el_core_news_md==2.2.5) (2.23.0)\n",
            "Requirement already satisfied: numpy>=1.15.0 in /usr/local/lib/python3.6/dist-packages (from spacy>=2.2.2->el_core_news_md==2.2.5) (1.19.5)\n",
            "Requirement already satisfied: plac<1.2.0,>=0.9.6 in /usr/local/lib/python3.6/dist-packages (from spacy>=2.2.2->el_core_news_md==2.2.5) (1.1.3)\n",
            "Requirement already satisfied: preshed<3.1.0,>=3.0.2 in /usr/local/lib/python3.6/dist-packages (from spacy>=2.2.2->el_core_news_md==2.2.5) (3.0.5)\n",
            "Requirement already satisfied: tqdm<5.0.0,>=4.38.0 in /usr/local/lib/python3.6/dist-packages (from spacy>=2.2.2->el_core_news_md==2.2.5) (4.41.1)\n",
            "Requirement already satisfied: importlib-metadata>=0.20; python_version < \"3.8\" in /usr/local/lib/python3.6/dist-packages (from catalogue<1.1.0,>=0.0.7->spacy>=2.2.2->el_core_news_md==2.2.5) (3.3.0)\n",
            "Requirement already satisfied: urllib3!=1.25.0,!=1.25.1,<1.26,>=1.21.1 in /usr/local/lib/python3.6/dist-packages (from requests<3.0.0,>=2.13.0->spacy>=2.2.2->el_core_news_md==2.2.5) (1.24.3)\n",
            "Requirement already satisfied: idna<3,>=2.5 in /usr/local/lib/python3.6/dist-packages (from requests<3.0.0,>=2.13.0->spacy>=2.2.2->el_core_news_md==2.2.5) (2.10)\n",
            "Requirement already satisfied: certifi>=2017.4.17 in /usr/local/lib/python3.6/dist-packages (from requests<3.0.0,>=2.13.0->spacy>=2.2.2->el_core_news_md==2.2.5) (2020.12.5)\n",
            "Requirement already satisfied: chardet<4,>=3.0.2 in /usr/local/lib/python3.6/dist-packages (from requests<3.0.0,>=2.13.0->spacy>=2.2.2->el_core_news_md==2.2.5) (3.0.4)\n",
            "Requirement already satisfied: typing-extensions>=3.6.4; python_version < \"3.8\" in /usr/local/lib/python3.6/dist-packages (from importlib-metadata>=0.20; python_version < \"3.8\"->catalogue<1.1.0,>=0.0.7->spacy>=2.2.2->el_core_news_md==2.2.5) (3.7.4.3)\n",
            "Requirement already satisfied: zipp>=0.5 in /usr/local/lib/python3.6/dist-packages (from importlib-metadata>=0.20; python_version < \"3.8\"->catalogue<1.1.0,>=0.0.7->spacy>=2.2.2->el_core_news_md==2.2.5) (3.4.0)\n",
            "Building wheels for collected packages: el-core-news-md\n",
            "  Building wheel for el-core-news-md (setup.py) ... \u001b[?25l\u001b[?25hdone\n",
            "  Created wheel for el-core-news-md: filename=el_core_news_md-2.2.5-cp36-none-any.whl size=137053459 sha256=9fcb4a6de640d5b30a6ae025a22e7bdb9170d8f8abbfa761162a533294716fb2\n",
            "  Stored in directory: /tmp/pip-ephem-wheel-cache-_of9ai1s/wheels/e3/70/65/a02c5c86342d8a6d6d25664309af6137a0c514206e96438251\n",
            "Successfully built el-core-news-md\n",
            "Installing collected packages: el-core-news-md\n",
            "Successfully installed el-core-news-md-2.2.5\n",
            "\u001b[38;5;2m✔ Download and installation successful\u001b[0m\n",
            "You can now load the model via spacy.load('el_core_news_md')\n"
          ],
          "name": "stdout"
        }
      ]
    },
    {
      "cell_type": "code",
      "metadata": {
        "id": "CLnJ2MtvPHJi",
        "colab": {
          "base_uri": "https://localhost:8080/"
        },
        "outputId": "4c6e3f5e-2446-4feb-9c8b-bdceafd78723"
      },
      "source": [
        "!pip install transformers==3.5.1\n",
        "!pip install greek-stemmer\n",
        "!pip install multi-rake\n",
        "!pip install yake \n",
        "!pip install pytextrank"
      ],
      "execution_count": null,
      "outputs": [
        {
          "output_type": "stream",
          "text": [
            "Collecting transformers==3.5.1\n",
            "\u001b[?25l  Downloading https://files.pythonhosted.org/packages/3a/83/e74092e7f24a08d751aa59b37a9fc572b2e4af3918cb66f7766c3affb1b4/transformers-3.5.1-py3-none-any.whl (1.3MB)\n",
            "\r\u001b[K     |▎                               | 10kB 26.0MB/s eta 0:00:01\r\u001b[K     |▌                               | 20kB 14.0MB/s eta 0:00:01\r\u001b[K     |▊                               | 30kB 12.0MB/s eta 0:00:01\r\u001b[K     |█                               | 40kB 11.7MB/s eta 0:00:01\r\u001b[K     |█▎                              | 51kB 7.7MB/s eta 0:00:01\r\u001b[K     |█▌                              | 61kB 8.3MB/s eta 0:00:01\r\u001b[K     |█▊                              | 71kB 8.4MB/s eta 0:00:01\r\u001b[K     |██                              | 81kB 8.6MB/s eta 0:00:01\r\u001b[K     |██▎                             | 92kB 8.8MB/s eta 0:00:01\r\u001b[K     |██▌                             | 102kB 7.5MB/s eta 0:00:01\r\u001b[K     |██▊                             | 112kB 7.5MB/s eta 0:00:01\r\u001b[K     |███                             | 122kB 7.5MB/s eta 0:00:01\r\u001b[K     |███▎                            | 133kB 7.5MB/s eta 0:00:01\r\u001b[K     |███▌                            | 143kB 7.5MB/s eta 0:00:01\r\u001b[K     |███▉                            | 153kB 7.5MB/s eta 0:00:01\r\u001b[K     |████                            | 163kB 7.5MB/s eta 0:00:01\r\u001b[K     |████▎                           | 174kB 7.5MB/s eta 0:00:01\r\u001b[K     |████▌                           | 184kB 7.5MB/s eta 0:00:01\r\u001b[K     |████▉                           | 194kB 7.5MB/s eta 0:00:01\r\u001b[K     |█████                           | 204kB 7.5MB/s eta 0:00:01\r\u001b[K     |█████▎                          | 215kB 7.5MB/s eta 0:00:01\r\u001b[K     |█████▌                          | 225kB 7.5MB/s eta 0:00:01\r\u001b[K     |█████▉                          | 235kB 7.5MB/s eta 0:00:01\r\u001b[K     |██████                          | 245kB 7.5MB/s eta 0:00:01\r\u001b[K     |██████▎                         | 256kB 7.5MB/s eta 0:00:01\r\u001b[K     |██████▌                         | 266kB 7.5MB/s eta 0:00:01\r\u001b[K     |██████▉                         | 276kB 7.5MB/s eta 0:00:01\r\u001b[K     |███████                         | 286kB 7.5MB/s eta 0:00:01\r\u001b[K     |███████▎                        | 296kB 7.5MB/s eta 0:00:01\r\u001b[K     |███████▋                        | 307kB 7.5MB/s eta 0:00:01\r\u001b[K     |███████▉                        | 317kB 7.5MB/s eta 0:00:01\r\u001b[K     |████████                        | 327kB 7.5MB/s eta 0:00:01\r\u001b[K     |████████▎                       | 337kB 7.5MB/s eta 0:00:01\r\u001b[K     |████████▋                       | 348kB 7.5MB/s eta 0:00:01\r\u001b[K     |████████▉                       | 358kB 7.5MB/s eta 0:00:01\r\u001b[K     |█████████                       | 368kB 7.5MB/s eta 0:00:01\r\u001b[K     |█████████▎                      | 378kB 7.5MB/s eta 0:00:01\r\u001b[K     |█████████▋                      | 389kB 7.5MB/s eta 0:00:01\r\u001b[K     |█████████▉                      | 399kB 7.5MB/s eta 0:00:01\r\u001b[K     |██████████                      | 409kB 7.5MB/s eta 0:00:01\r\u001b[K     |██████████▎                     | 419kB 7.5MB/s eta 0:00:01\r\u001b[K     |██████████▋                     | 430kB 7.5MB/s eta 0:00:01\r\u001b[K     |██████████▉                     | 440kB 7.5MB/s eta 0:00:01\r\u001b[K     |███████████                     | 450kB 7.5MB/s eta 0:00:01\r\u001b[K     |███████████▍                    | 460kB 7.5MB/s eta 0:00:01\r\u001b[K     |███████████▋                    | 471kB 7.5MB/s eta 0:00:01\r\u001b[K     |███████████▉                    | 481kB 7.5MB/s eta 0:00:01\r\u001b[K     |████████████                    | 491kB 7.5MB/s eta 0:00:01\r\u001b[K     |████████████▍                   | 501kB 7.5MB/s eta 0:00:01\r\u001b[K     |████████████▋                   | 512kB 7.5MB/s eta 0:00:01\r\u001b[K     |████████████▉                   | 522kB 7.5MB/s eta 0:00:01\r\u001b[K     |█████████████                   | 532kB 7.5MB/s eta 0:00:01\r\u001b[K     |█████████████▍                  | 542kB 7.5MB/s eta 0:00:01\r\u001b[K     |█████████████▋                  | 552kB 7.5MB/s eta 0:00:01\r\u001b[K     |█████████████▉                  | 563kB 7.5MB/s eta 0:00:01\r\u001b[K     |██████████████                  | 573kB 7.5MB/s eta 0:00:01\r\u001b[K     |██████████████▍                 | 583kB 7.5MB/s eta 0:00:01\r\u001b[K     |██████████████▋                 | 593kB 7.5MB/s eta 0:00:01\r\u001b[K     |██████████████▉                 | 604kB 7.5MB/s eta 0:00:01\r\u001b[K     |███████████████▏                | 614kB 7.5MB/s eta 0:00:01\r\u001b[K     |███████████████▍                | 624kB 7.5MB/s eta 0:00:01\r\u001b[K     |███████████████▋                | 634kB 7.5MB/s eta 0:00:01\r\u001b[K     |███████████████▉                | 645kB 7.5MB/s eta 0:00:01\r\u001b[K     |████████████████▏               | 655kB 7.5MB/s eta 0:00:01\r\u001b[K     |████████████████▍               | 665kB 7.5MB/s eta 0:00:01\r\u001b[K     |████████████████▋               | 675kB 7.5MB/s eta 0:00:01\r\u001b[K     |████████████████▉               | 686kB 7.5MB/s eta 0:00:01\r\u001b[K     |█████████████████▏              | 696kB 7.5MB/s eta 0:00:01\r\u001b[K     |█████████████████▍              | 706kB 7.5MB/s eta 0:00:01\r\u001b[K     |█████████████████▋              | 716kB 7.5MB/s eta 0:00:01\r\u001b[K     |██████████████████              | 727kB 7.5MB/s eta 0:00:01\r\u001b[K     |██████████████████▏             | 737kB 7.5MB/s eta 0:00:01\r\u001b[K     |██████████████████▍             | 747kB 7.5MB/s eta 0:00:01\r\u001b[K     |██████████████████▋             | 757kB 7.5MB/s eta 0:00:01\r\u001b[K     |███████████████████             | 768kB 7.5MB/s eta 0:00:01\r\u001b[K     |███████████████████▏            | 778kB 7.5MB/s eta 0:00:01\r\u001b[K     |███████████████████▍            | 788kB 7.5MB/s eta 0:00:01\r\u001b[K     |███████████████████▋            | 798kB 7.5MB/s eta 0:00:01\r\u001b[K     |████████████████████            | 808kB 7.5MB/s eta 0:00:01\r\u001b[K     |████████████████████▏           | 819kB 7.5MB/s eta 0:00:01\r\u001b[K     |████████████████████▍           | 829kB 7.5MB/s eta 0:00:01\r\u001b[K     |████████████████████▋           | 839kB 7.5MB/s eta 0:00:01\r\u001b[K     |█████████████████████           | 849kB 7.5MB/s eta 0:00:01\r\u001b[K     |█████████████████████▏          | 860kB 7.5MB/s eta 0:00:01\r\u001b[K     |█████████████████████▍          | 870kB 7.5MB/s eta 0:00:01\r\u001b[K     |█████████████████████▊          | 880kB 7.5MB/s eta 0:00:01\r\u001b[K     |██████████████████████          | 890kB 7.5MB/s eta 0:00:01\r\u001b[K     |██████████████████████▏         | 901kB 7.5MB/s eta 0:00:01\r\u001b[K     |██████████████████████▍         | 911kB 7.5MB/s eta 0:00:01\r\u001b[K     |██████████████████████▊         | 921kB 7.5MB/s eta 0:00:01\r\u001b[K     |███████████████████████         | 931kB 7.5MB/s eta 0:00:01\r\u001b[K     |███████████████████████▏        | 942kB 7.5MB/s eta 0:00:01\r\u001b[K     |███████████████████████▍        | 952kB 7.5MB/s eta 0:00:01\r\u001b[K     |███████████████████████▊        | 962kB 7.5MB/s eta 0:00:01\r\u001b[K     |████████████████████████        | 972kB 7.5MB/s eta 0:00:01\r\u001b[K     |████████████████████████▏       | 983kB 7.5MB/s eta 0:00:01\r\u001b[K     |████████████████████████▍       | 993kB 7.5MB/s eta 0:00:01\r\u001b[K     |████████████████████████▊       | 1.0MB 7.5MB/s eta 0:00:01\r\u001b[K     |█████████████████████████       | 1.0MB 7.5MB/s eta 0:00:01\r\u001b[K     |█████████████████████████▏      | 1.0MB 7.5MB/s eta 0:00:01\r\u001b[K     |█████████████████████████▌      | 1.0MB 7.5MB/s eta 0:00:01\r\u001b[K     |█████████████████████████▊      | 1.0MB 7.5MB/s eta 0:00:01\r\u001b[K     |██████████████████████████      | 1.1MB 7.5MB/s eta 0:00:01\r\u001b[K     |██████████████████████████▏     | 1.1MB 7.5MB/s eta 0:00:01\r\u001b[K     |██████████████████████████▌     | 1.1MB 7.5MB/s eta 0:00:01\r\u001b[K     |██████████████████████████▊     | 1.1MB 7.5MB/s eta 0:00:01\r\u001b[K     |███████████████████████████     | 1.1MB 7.5MB/s eta 0:00:01\r\u001b[K     |███████████████████████████▏    | 1.1MB 7.5MB/s eta 0:00:01\r\u001b[K     |███████████████████████████▌    | 1.1MB 7.5MB/s eta 0:00:01\r\u001b[K     |███████████████████████████▊    | 1.1MB 7.5MB/s eta 0:00:01\r\u001b[K     |████████████████████████████    | 1.1MB 7.5MB/s eta 0:00:01\r\u001b[K     |████████████████████████████▏   | 1.1MB 7.5MB/s eta 0:00:01\r\u001b[K     |████████████████████████████▌   | 1.2MB 7.5MB/s eta 0:00:01\r\u001b[K     |████████████████████████████▊   | 1.2MB 7.5MB/s eta 0:00:01\r\u001b[K     |█████████████████████████████   | 1.2MB 7.5MB/s eta 0:00:01\r\u001b[K     |█████████████████████████████▎  | 1.2MB 7.5MB/s eta 0:00:01\r\u001b[K     |█████████████████████████████▌  | 1.2MB 7.5MB/s eta 0:00:01\r\u001b[K     |█████████████████████████████▊  | 1.2MB 7.5MB/s eta 0:00:01\r\u001b[K     |██████████████████████████████  | 1.2MB 7.5MB/s eta 0:00:01\r\u001b[K     |██████████████████████████████▎ | 1.2MB 7.5MB/s eta 0:00:01\r\u001b[K     |██████████████████████████████▌ | 1.2MB 7.5MB/s eta 0:00:01\r\u001b[K     |██████████████████████████████▊ | 1.2MB 7.5MB/s eta 0:00:01\r\u001b[K     |███████████████████████████████ | 1.3MB 7.5MB/s eta 0:00:01\r\u001b[K     |███████████████████████████████▎| 1.3MB 7.5MB/s eta 0:00:01\r\u001b[K     |███████████████████████████████▌| 1.3MB 7.5MB/s eta 0:00:01\r\u001b[K     |███████████████████████████████▊| 1.3MB 7.5MB/s eta 0:00:01\r\u001b[K     |████████████████████████████████| 1.3MB 7.5MB/s eta 0:00:01\r\u001b[K     |████████████████████████████████| 1.3MB 7.5MB/s \n",
            "\u001b[?25hRequirement already satisfied: packaging in /usr/local/lib/python3.6/dist-packages (from transformers==3.5.1) (20.8)\n",
            "Collecting tokenizers==0.9.3\n",
            "\u001b[?25l  Downloading https://files.pythonhosted.org/packages/4c/34/b39eb9994bc3c999270b69c9eea40ecc6f0e97991dba28282b9fd32d44ee/tokenizers-0.9.3-cp36-cp36m-manylinux1_x86_64.whl (2.9MB)\n",
            "\u001b[K     |████████████████████████████████| 2.9MB 28.1MB/s \n",
            "\u001b[?25hCollecting sentencepiece==0.1.91\n",
            "\u001b[?25l  Downloading https://files.pythonhosted.org/packages/d4/a4/d0a884c4300004a78cca907a6ff9a5e9fe4f090f5d95ab341c53d28cbc58/sentencepiece-0.1.91-cp36-cp36m-manylinux1_x86_64.whl (1.1MB)\n",
            "\u001b[K     |████████████████████████████████| 1.1MB 36.4MB/s \n",
            "\u001b[?25hRequirement already satisfied: filelock in /usr/local/lib/python3.6/dist-packages (from transformers==3.5.1) (3.0.12)\n",
            "Requirement already satisfied: requests in /usr/local/lib/python3.6/dist-packages (from transformers==3.5.1) (2.23.0)\n",
            "Requirement already satisfied: dataclasses; python_version < \"3.7\" in /usr/local/lib/python3.6/dist-packages (from transformers==3.5.1) (0.8)\n",
            "Requirement already satisfied: regex!=2019.12.17 in /usr/local/lib/python3.6/dist-packages (from transformers==3.5.1) (2019.12.20)\n",
            "Requirement already satisfied: numpy in /usr/local/lib/python3.6/dist-packages (from transformers==3.5.1) (1.19.5)\n",
            "Requirement already satisfied: protobuf in /usr/local/lib/python3.6/dist-packages (from transformers==3.5.1) (3.12.4)\n",
            "Collecting sacremoses\n",
            "\u001b[?25l  Downloading https://files.pythonhosted.org/packages/7d/34/09d19aff26edcc8eb2a01bed8e98f13a1537005d31e95233fd48216eed10/sacremoses-0.0.43.tar.gz (883kB)\n",
            "\u001b[K     |████████████████████████████████| 890kB 60.3MB/s \n",
            "\u001b[?25hRequirement already satisfied: tqdm>=4.27 in /usr/local/lib/python3.6/dist-packages (from transformers==3.5.1) (4.41.1)\n",
            "Requirement already satisfied: pyparsing>=2.0.2 in /usr/local/lib/python3.6/dist-packages (from packaging->transformers==3.5.1) (2.4.7)\n",
            "Requirement already satisfied: certifi>=2017.4.17 in /usr/local/lib/python3.6/dist-packages (from requests->transformers==3.5.1) (2020.12.5)\n",
            "Requirement already satisfied: chardet<4,>=3.0.2 in /usr/local/lib/python3.6/dist-packages (from requests->transformers==3.5.1) (3.0.4)\n",
            "Requirement already satisfied: idna<3,>=2.5 in /usr/local/lib/python3.6/dist-packages (from requests->transformers==3.5.1) (2.10)\n",
            "Requirement already satisfied: urllib3!=1.25.0,!=1.25.1,<1.26,>=1.21.1 in /usr/local/lib/python3.6/dist-packages (from requests->transformers==3.5.1) (1.24.3)\n",
            "Requirement already satisfied: six>=1.9 in /usr/local/lib/python3.6/dist-packages (from protobuf->transformers==3.5.1) (1.15.0)\n",
            "Requirement already satisfied: setuptools in /usr/local/lib/python3.6/dist-packages (from protobuf->transformers==3.5.1) (51.3.3)\n",
            "Requirement already satisfied: click in /usr/local/lib/python3.6/dist-packages (from sacremoses->transformers==3.5.1) (7.1.2)\n",
            "Requirement already satisfied: joblib in /usr/local/lib/python3.6/dist-packages (from sacremoses->transformers==3.5.1) (1.0.0)\n",
            "Building wheels for collected packages: sacremoses\n",
            "  Building wheel for sacremoses (setup.py) ... \u001b[?25l\u001b[?25hdone\n",
            "  Created wheel for sacremoses: filename=sacremoses-0.0.43-cp36-none-any.whl size=893261 sha256=324a7a12ae3db43825c1eb8ee9f184f1533997060ae0ad602f9516ef4842ec3b\n",
            "  Stored in directory: /root/.cache/pip/wheels/29/3c/fd/7ce5c3f0666dab31a50123635e6fb5e19ceb42ce38d4e58f45\n",
            "Successfully built sacremoses\n",
            "Installing collected packages: tokenizers, sentencepiece, sacremoses, transformers\n",
            "Successfully installed sacremoses-0.0.43 sentencepiece-0.1.91 tokenizers-0.9.3 transformers-3.5.1\n",
            "Collecting greek-stemmer\n",
            "  Using cached https://files.pythonhosted.org/packages/9c/89/6a7e01dd15100bb4c8b64a9ed3a2afb188cbbc71911545e74463811fba3b/greek_stemmer-0.1.1.tar.gz\n",
            "Requirement already satisfied: PyYAML in /usr/local/lib/python3.6/dist-packages (from greek-stemmer) (3.13)\n",
            "Requirement already satisfied: future in /usr/local/lib/python3.6/dist-packages (from greek-stemmer) (0.16.0)\n",
            "Building wheels for collected packages: greek-stemmer\n",
            "  Building wheel for greek-stemmer (setup.py) ... \u001b[?25l\u001b[?25hdone\n",
            "  Created wheel for greek-stemmer: filename=greek_stemmer-0.1.1-cp36-none-any.whl size=6739 sha256=c7aa25cb3a9212092d38714f8ace948ed300bde604b16a8ad1ba9ccf2b0c0f13\n",
            "  Stored in directory: /root/.cache/pip/wheels/b9/e5/39/735c9926a0da4bc26812631945f8394a697baf31d0423d154a\n",
            "Successfully built greek-stemmer\n",
            "Installing collected packages: greek-stemmer\n",
            "Successfully installed greek-stemmer-0.1.1\n",
            "Collecting multi-rake\n",
            "  Downloading https://files.pythonhosted.org/packages/5f/26/8d1fd22c5e1bf65936bae9f8201df2fa8cefe6fa0b28f471384e8101b298/multi_rake-0.0.1-py3-none-any.whl\n",
            "Requirement already satisfied: numpy>=1.14.4 in /usr/local/lib/python3.6/dist-packages (from multi-rake) (1.19.5)\n",
            "Requirement already satisfied: regex>=2018.6.6 in /usr/local/lib/python3.6/dist-packages (from multi-rake) (2019.12.20)\n",
            "Requirement already satisfied: cld2-cffi>=0.1.4 in /usr/local/lib/python3.6/dist-packages (from multi-rake) (0.1.4)\n",
            "Requirement already satisfied: pyrsistent>=0.14.2 in /usr/local/lib/python3.6/dist-packages (from multi-rake) (0.17.3)\n",
            "Requirement already satisfied: six in /usr/local/lib/python3.6/dist-packages (from cld2-cffi>=0.1.4->multi-rake) (1.15.0)\n",
            "Requirement already satisfied: cffi in /usr/local/lib/python3.6/dist-packages (from cld2-cffi>=0.1.4->multi-rake) (1.14.4)\n",
            "Requirement already satisfied: pycparser in /usr/local/lib/python3.6/dist-packages (from cffi->cld2-cffi>=0.1.4->multi-rake) (2.20)\n",
            "Installing collected packages: multi-rake\n",
            "Successfully installed multi-rake-0.0.1\n",
            "Collecting yake\n",
            "\u001b[?25l  Downloading https://files.pythonhosted.org/packages/b6/3c/ed20047202793a08786978be68ec44c7ffbcb814ed05b985b38037f31a56/yake-0.3.7.tar.gz (53kB)\n",
            "\u001b[K     |████████████████████████████████| 61kB 5.6MB/s \n",
            "\u001b[?25hRequirement already satisfied: Click>=6.0 in /usr/local/lib/python3.6/dist-packages (from yake) (7.1.2)\n",
            "Collecting fire\n",
            "\u001b[?25l  Downloading https://files.pythonhosted.org/packages/11/07/a119a1aa04d37bc819940d95ed7e135a7dcca1c098123a3764a6dcace9e7/fire-0.4.0.tar.gz (87kB)\n",
            "\u001b[K     |████████████████████████████████| 92kB 6.8MB/s \n",
            "\u001b[?25hRequirement already satisfied: numpy in /usr/local/lib/python3.6/dist-packages (from yake) (1.19.5)\n",
            "Collecting segtok\n",
            "  Downloading https://files.pythonhosted.org/packages/41/08/582dab5f4b1d5ca23bc6927b4bb977c8ff7f3a87a3b98844ef833e2f5623/segtok-1.5.10.tar.gz\n",
            "Requirement already satisfied: pandas in /usr/local/lib/python3.6/dist-packages (from yake) (1.1.5)\n",
            "Requirement already satisfied: networkx in /usr/local/lib/python3.6/dist-packages (from yake) (2.5)\n",
            "Collecting jellyfish\n",
            "\u001b[?25l  Downloading https://files.pythonhosted.org/packages/6c/09/927ae35fc5a9f70abb6cc2c27ee88fc48549f7bc4786c1d4b177c22e997d/jellyfish-0.8.2-cp36-cp36m-manylinux2014_x86_64.whl (93kB)\n",
            "\u001b[K     |████████████████████████████████| 102kB 8.9MB/s \n",
            "\u001b[?25hCollecting unidecode>=0.4.19\n",
            "\u001b[?25l  Downloading https://files.pythonhosted.org/packages/74/65/91eab655041e9e92f948cb7302e54962035762ce7b518272ed9d6b269e93/Unidecode-1.1.2-py2.py3-none-any.whl (239kB)\n",
            "\u001b[K     |████████████████████████████████| 245kB 12.2MB/s \n",
            "\u001b[?25hRequirement already satisfied: nltk>=3.1 in /usr/local/lib/python3.6/dist-packages (from yake) (3.2.5)\n",
            "Requirement already satisfied: scipy in /usr/local/lib/python3.6/dist-packages (from yake) (1.4.1)\n",
            "Requirement already satisfied: six in /usr/local/lib/python3.6/dist-packages (from fire->yake) (1.15.0)\n",
            "Requirement already satisfied: termcolor in /usr/local/lib/python3.6/dist-packages (from fire->yake) (1.1.0)\n",
            "Requirement already satisfied: regex in /usr/local/lib/python3.6/dist-packages (from segtok->yake) (2019.12.20)\n",
            "Requirement already satisfied: pytz>=2017.2 in /usr/local/lib/python3.6/dist-packages (from pandas->yake) (2018.9)\n",
            "Requirement already satisfied: python-dateutil>=2.7.3 in /usr/local/lib/python3.6/dist-packages (from pandas->yake) (2.8.1)\n",
            "Requirement already satisfied: decorator>=4.3.0 in /usr/local/lib/python3.6/dist-packages (from networkx->yake) (4.4.2)\n",
            "Building wheels for collected packages: yake, fire, segtok\n",
            "  Building wheel for yake (setup.py) ... \u001b[?25l\u001b[?25hdone\n",
            "  Created wheel for yake: filename=yake-0.3.7-py2.py3-none-any.whl size=44592 sha256=a5e8da252335509a475795f81e6f7bc3bb904443386613141d72ad06c0114e8a\n",
            "  Stored in directory: /root/.cache/pip/wheels/90/7d/56/63a3a3b064e9214e29616880dc4170a300ca68643728ce24ba\n",
            "  Building wheel for fire (setup.py) ... \u001b[?25l\u001b[?25hdone\n",
            "  Created wheel for fire: filename=fire-0.4.0-py2.py3-none-any.whl size=115928 sha256=ac654e90538dfe1cf7d93332e10620079f20c3614662b5c83f2870d59ad69987\n",
            "  Stored in directory: /root/.cache/pip/wheels/af/19/30/1ea0cad502dcb4e66ed5a690279628c827aea38bbbab75d5ed\n",
            "  Building wheel for segtok (setup.py) ... \u001b[?25l\u001b[?25hdone\n",
            "  Created wheel for segtok: filename=segtok-1.5.10-cp36-none-any.whl size=25019 sha256=91a5ca8d1e2db66b03049bc67c93bd76baff2126663b5be13e76f0fe78edf634\n",
            "  Stored in directory: /root/.cache/pip/wheels/b4/39/f6/9ca1c5cabde964d728023b5751c3a206a5c8cc40252321fb6b\n",
            "Successfully built yake fire segtok\n",
            "Installing collected packages: fire, segtok, jellyfish, unidecode, yake\n",
            "Successfully installed fire-0.4.0 jellyfish-0.8.2 segtok-1.5.10 unidecode-1.1.2 yake-0.3.7\n",
            "Collecting pytextrank\n",
            "  Downloading https://files.pythonhosted.org/packages/38/97/3cd3ec7396b6cb5984d860b18a8741f59d4652c8bbfc7b7431e9831e5d53/pytextrank-2.0.3-py3-none-any.whl\n",
            "Requirement already satisfied: graphviz in /usr/local/lib/python3.6/dist-packages (from pytextrank) (0.10.1)\n",
            "Requirement already satisfied: coverage in /usr/local/lib/python3.6/dist-packages (from pytextrank) (3.7.1)\n",
            "Requirement already satisfied: spacy in /usr/local/lib/python3.6/dist-packages (from pytextrank) (2.2.4)\n",
            "Requirement already satisfied: networkx in /usr/local/lib/python3.6/dist-packages (from pytextrank) (2.5)\n",
            "Requirement already satisfied: setuptools in /usr/local/lib/python3.6/dist-packages (from spacy->pytextrank) (51.3.3)\n",
            "Requirement already satisfied: cymem<2.1.0,>=2.0.2 in /usr/local/lib/python3.6/dist-packages (from spacy->pytextrank) (2.0.5)\n",
            "Requirement already satisfied: numpy>=1.15.0 in /usr/local/lib/python3.6/dist-packages (from spacy->pytextrank) (1.19.5)\n",
            "Requirement already satisfied: preshed<3.1.0,>=3.0.2 in /usr/local/lib/python3.6/dist-packages (from spacy->pytextrank) (3.0.5)\n",
            "Requirement already satisfied: thinc==7.4.0 in /usr/local/lib/python3.6/dist-packages (from spacy->pytextrank) (7.4.0)\n",
            "Requirement already satisfied: blis<0.5.0,>=0.4.0 in /usr/local/lib/python3.6/dist-packages (from spacy->pytextrank) (0.4.1)\n",
            "Requirement already satisfied: requests<3.0.0,>=2.13.0 in /usr/local/lib/python3.6/dist-packages (from spacy->pytextrank) (2.23.0)\n",
            "Requirement already satisfied: srsly<1.1.0,>=1.0.2 in /usr/local/lib/python3.6/dist-packages (from spacy->pytextrank) (1.0.5)\n",
            "Requirement already satisfied: wasabi<1.1.0,>=0.4.0 in /usr/local/lib/python3.6/dist-packages (from spacy->pytextrank) (0.8.0)\n",
            "Requirement already satisfied: tqdm<5.0.0,>=4.38.0 in /usr/local/lib/python3.6/dist-packages (from spacy->pytextrank) (4.41.1)\n",
            "Requirement already satisfied: murmurhash<1.1.0,>=0.28.0 in /usr/local/lib/python3.6/dist-packages (from spacy->pytextrank) (1.0.5)\n",
            "Requirement already satisfied: catalogue<1.1.0,>=0.0.7 in /usr/local/lib/python3.6/dist-packages (from spacy->pytextrank) (1.0.0)\n",
            "Requirement already satisfied: plac<1.2.0,>=0.9.6 in /usr/local/lib/python3.6/dist-packages (from spacy->pytextrank) (1.1.3)\n",
            "Requirement already satisfied: decorator>=4.3.0 in /usr/local/lib/python3.6/dist-packages (from networkx->pytextrank) (4.4.2)\n",
            "Requirement already satisfied: certifi>=2017.4.17 in /usr/local/lib/python3.6/dist-packages (from requests<3.0.0,>=2.13.0->spacy->pytextrank) (2020.12.5)\n",
            "Requirement already satisfied: chardet<4,>=3.0.2 in /usr/local/lib/python3.6/dist-packages (from requests<3.0.0,>=2.13.0->spacy->pytextrank) (3.0.4)\n",
            "Requirement already satisfied: idna<3,>=2.5 in /usr/local/lib/python3.6/dist-packages (from requests<3.0.0,>=2.13.0->spacy->pytextrank) (2.10)\n",
            "Requirement already satisfied: urllib3!=1.25.0,!=1.25.1,<1.26,>=1.21.1 in /usr/local/lib/python3.6/dist-packages (from requests<3.0.0,>=2.13.0->spacy->pytextrank) (1.24.3)\n",
            "Requirement already satisfied: importlib-metadata>=0.20; python_version < \"3.8\" in /usr/local/lib/python3.6/dist-packages (from catalogue<1.1.0,>=0.0.7->spacy->pytextrank) (3.3.0)\n",
            "Requirement already satisfied: zipp>=0.5 in /usr/local/lib/python3.6/dist-packages (from importlib-metadata>=0.20; python_version < \"3.8\"->catalogue<1.1.0,>=0.0.7->spacy->pytextrank) (3.4.0)\n",
            "Requirement already satisfied: typing-extensions>=3.6.4; python_version < \"3.8\" in /usr/local/lib/python3.6/dist-packages (from importlib-metadata>=0.20; python_version < \"3.8\"->catalogue<1.1.0,>=0.0.7->spacy->pytextrank) (3.7.4.3)\n",
            "Installing collected packages: pytextrank\n",
            "Successfully installed pytextrank-2.0.3\n"
          ],
          "name": "stdout"
        }
      ]
    },
    {
      "cell_type": "markdown",
      "metadata": {
        "id": "MO1fKXnl5zp6"
      },
      "source": [
        "# Fine tune Greek BERT"
      ]
    },
    {
      "cell_type": "code",
      "metadata": {
        "id": "HuoIptDIPOvx"
      },
      "source": [
        "!cd keyword-extraction-with-greekBERT ; python finetune_greekbert_on_biomedical_data_with_mlm.py"
      ],
      "execution_count": null,
      "outputs": []
    },
    {
      "cell_type": "code",
      "metadata": {
        "colab": {
          "base_uri": "https://localhost:8080/"
        },
        "id": "YB06c0rt54I4",
        "outputId": "c4beb725-3828-450c-aa5d-2fc54322ecc7"
      },
      "source": [
        "from google.colab import drive\n",
        "drive.mount('/content/drive')"
      ],
      "execution_count": null,
      "outputs": [
        {
          "output_type": "stream",
          "text": [
            "Mounted at /content/drive\n"
          ],
          "name": "stdout"
        }
      ]
    },
    {
      "cell_type": "code",
      "metadata": {
        "id": "KdLZ3S_tRFDW"
      },
      "source": [
        "!cp -r  \"/content/keyword-extraction-with-greekBERT/greekBERT\" \"/content/drive/MyDrive/greekBERT_v2\""
      ],
      "execution_count": null,
      "outputs": []
    },
    {
      "cell_type": "markdown",
      "metadata": {
        "id": "TFJu7wAH6CNS"
      },
      "source": [
        "# Extract Keywords"
      ]
    },
    {
      "cell_type": "code",
      "metadata": {
        "colab": {
          "base_uri": "https://localhost:8080/"
        },
        "id": "YyFCM4h6HNbB",
        "outputId": "c6c6694c-1397-4871-cc5e-a72da5062dad"
      },
      "source": [
        "from google.colab import drive\n",
        "drive.mount('/content/drive')"
      ],
      "execution_count": null,
      "outputs": [
        {
          "output_type": "stream",
          "text": [
            "Mounted at /content/drive\n"
          ],
          "name": "stdout"
        }
      ]
    },
    {
      "cell_type": "code",
      "metadata": {
        "id": "QOIQRmuaXKaA"
      },
      "source": [
        "!cp -r \"/content/drive/MyDrive/greekBERT_v2\" \"/content/keyword-extraction-with-greekBERT/\""
      ],
      "execution_count": null,
      "outputs": []
    },
    {
      "cell_type": "code",
      "metadata": {
        "colab": {
          "base_uri": "https://localhost:8080/"
        },
        "id": "4WnEBvV_4osg",
        "outputId": "ab397fb2-78a6-46ed-f1c2-a8c18bd49b81"
      },
      "source": [
        "!cd keyword-extraction-with-greekBERT ; python key_word_extraction.py "
      ],
      "execution_count": null,
      "outputs": [
        {
          "output_type": "stream",
          "text": [
            "2021-01-22 22:37:32.686676: I tensorflow/stream_executor/platform/default/dso_loader.cc:49] Successfully opened dynamic library libcudart.so.10.1\n",
            "[nltk_data] Downloading package stopwords to /root/nltk_data...\n",
            "[nltk_data]   Package stopwords is already up-to-date!\n",
            "2021-01-22 22:38:08.652424: I tensorflow/compiler/jit/xla_cpu_device.cc:41] Not creating XLA devices, tf_xla_enable_xla_devices not set\n",
            "2021-01-22 22:38:08.652601: I tensorflow/stream_executor/platform/default/dso_loader.cc:49] Successfully opened dynamic library libcuda.so.1\n",
            "2021-01-22 22:38:08.652772: I tensorflow/stream_executor/cuda/cuda_gpu_executor.cc:941] successful NUMA node read from SysFS had negative value (-1), but there must be at least one NUMA node, so returning NUMA node zero\n",
            "2021-01-22 22:38:08.653393: I tensorflow/core/common_runtime/gpu/gpu_device.cc:1720] Found device 0 with properties: \n",
            "pciBusID: 0000:00:04.0 name: Tesla T4 computeCapability: 7.5\n",
            "coreClock: 1.59GHz coreCount: 40 deviceMemorySize: 14.73GiB deviceMemoryBandwidth: 298.08GiB/s\n",
            "2021-01-22 22:38:08.653460: I tensorflow/stream_executor/platform/default/dso_loader.cc:49] Successfully opened dynamic library libcudart.so.10.1\n",
            "2021-01-22 22:38:08.653558: I tensorflow/stream_executor/platform/default/dso_loader.cc:49] Successfully opened dynamic library libcublas.so.10\n",
            "2021-01-22 22:38:08.653599: I tensorflow/stream_executor/platform/default/dso_loader.cc:49] Successfully opened dynamic library libcublasLt.so.10\n",
            "2021-01-22 22:38:08.653639: I tensorflow/stream_executor/platform/default/dso_loader.cc:49] Successfully opened dynamic library libcufft.so.10\n",
            "2021-01-22 22:38:08.653678: I tensorflow/stream_executor/platform/default/dso_loader.cc:49] Successfully opened dynamic library libcurand.so.10\n",
            "2021-01-22 22:38:08.653720: I tensorflow/stream_executor/platform/default/dso_loader.cc:49] Successfully opened dynamic library libcusolver.so.10\n",
            "2021-01-22 22:38:08.653774: I tensorflow/stream_executor/platform/default/dso_loader.cc:49] Successfully opened dynamic library libcusparse.so.10\n",
            "2021-01-22 22:38:08.653826: I tensorflow/stream_executor/platform/default/dso_loader.cc:49] Successfully opened dynamic library libcudnn.so.7\n",
            "2021-01-22 22:38:08.653926: I tensorflow/stream_executor/cuda/cuda_gpu_executor.cc:941] successful NUMA node read from SysFS had negative value (-1), but there must be at least one NUMA node, so returning NUMA node zero\n",
            "2021-01-22 22:38:08.654533: I tensorflow/stream_executor/cuda/cuda_gpu_executor.cc:941] successful NUMA node read from SysFS had negative value (-1), but there must be at least one NUMA node, so returning NUMA node zero\n",
            "2021-01-22 22:38:08.655051: I tensorflow/core/common_runtime/gpu/gpu_device.cc:1862] Adding visible gpu devices: 0\n",
            "2021-01-22 22:38:08.655499: I tensorflow/compiler/jit/xla_gpu_device.cc:99] Not creating XLA devices, tf_xla_enable_xla_devices not set\n",
            "2021-01-22 22:38:08.655640: I tensorflow/stream_executor/cuda/cuda_gpu_executor.cc:941] successful NUMA node read from SysFS had negative value (-1), but there must be at least one NUMA node, so returning NUMA node zero\n",
            "2021-01-22 22:38:08.656143: I tensorflow/core/common_runtime/gpu/gpu_device.cc:1720] Found device 0 with properties: \n",
            "pciBusID: 0000:00:04.0 name: Tesla T4 computeCapability: 7.5\n",
            "coreClock: 1.59GHz coreCount: 40 deviceMemorySize: 14.73GiB deviceMemoryBandwidth: 298.08GiB/s\n",
            "2021-01-22 22:38:08.656207: I tensorflow/stream_executor/platform/default/dso_loader.cc:49] Successfully opened dynamic library libcudart.so.10.1\n",
            "2021-01-22 22:38:08.656263: I tensorflow/stream_executor/platform/default/dso_loader.cc:49] Successfully opened dynamic library libcublas.so.10\n",
            "2021-01-22 22:38:08.656291: I tensorflow/stream_executor/platform/default/dso_loader.cc:49] Successfully opened dynamic library libcublasLt.so.10\n",
            "2021-01-22 22:38:08.656316: I tensorflow/stream_executor/platform/default/dso_loader.cc:49] Successfully opened dynamic library libcufft.so.10\n",
            "2021-01-22 22:38:08.656340: I tensorflow/stream_executor/platform/default/dso_loader.cc:49] Successfully opened dynamic library libcurand.so.10\n",
            "2021-01-22 22:38:08.656363: I tensorflow/stream_executor/platform/default/dso_loader.cc:49] Successfully opened dynamic library libcusolver.so.10\n",
            "2021-01-22 22:38:08.656386: I tensorflow/stream_executor/platform/default/dso_loader.cc:49] Successfully opened dynamic library libcusparse.so.10\n",
            "2021-01-22 22:38:08.656411: I tensorflow/stream_executor/platform/default/dso_loader.cc:49] Successfully opened dynamic library libcudnn.so.7\n",
            "2021-01-22 22:38:08.656493: I tensorflow/stream_executor/cuda/cuda_gpu_executor.cc:941] successful NUMA node read from SysFS had negative value (-1), but there must be at least one NUMA node, so returning NUMA node zero\n",
            "2021-01-22 22:38:08.657025: I tensorflow/stream_executor/cuda/cuda_gpu_executor.cc:941] successful NUMA node read from SysFS had negative value (-1), but there must be at least one NUMA node, so returning NUMA node zero\n",
            "2021-01-22 22:38:08.657575: I tensorflow/core/common_runtime/gpu/gpu_device.cc:1862] Adding visible gpu devices: 0\n",
            "2021-01-22 22:38:08.657631: I tensorflow/stream_executor/platform/default/dso_loader.cc:49] Successfully opened dynamic library libcudart.so.10.1\n",
            "2021-01-22 22:38:13.468084: I tensorflow/core/common_runtime/gpu/gpu_device.cc:1261] Device interconnect StreamExecutor with strength 1 edge matrix:\n",
            "2021-01-22 22:38:13.468142: I tensorflow/core/common_runtime/gpu/gpu_device.cc:1267]      0 \n",
            "2021-01-22 22:38:13.468158: I tensorflow/core/common_runtime/gpu/gpu_device.cc:1280] 0:   N \n",
            "2021-01-22 22:38:13.468369: I tensorflow/stream_executor/cuda/cuda_gpu_executor.cc:941] successful NUMA node read from SysFS had negative value (-1), but there must be at least one NUMA node, so returning NUMA node zero\n",
            "2021-01-22 22:38:13.469013: I tensorflow/stream_executor/cuda/cuda_gpu_executor.cc:941] successful NUMA node read from SysFS had negative value (-1), but there must be at least one NUMA node, so returning NUMA node zero\n",
            "2021-01-22 22:38:13.469591: I tensorflow/stream_executor/cuda/cuda_gpu_executor.cc:941] successful NUMA node read from SysFS had negative value (-1), but there must be at least one NUMA node, so returning NUMA node zero\n",
            "2021-01-22 22:38:13.470071: W tensorflow/core/common_runtime/gpu/gpu_bfc_allocator.cc:39] Overriding allow_growth setting because the TF_FORCE_GPU_ALLOW_GROWTH environment variable is set. Original config value was 0.\n",
            "2021-01-22 22:38:13.470122: I tensorflow/core/common_runtime/gpu/gpu_device.cc:1406] Created TensorFlow device (/job:localhost/replica:0/task:0/device:GPU:0 with 13165 MB memory) -> physical GPU (device: 0, name: Tesla T4, pci bus id: 0000:00:04.0, compute capability: 7.5)\n",
            "2021-01-22 22:38:13.642776: I tensorflow/stream_executor/platform/default/dso_loader.cc:49] Successfully opened dynamic library libcublas.so.10\n",
            "Some layers from the model checkpoint at greekBERT_v2 were not used when initializing TFBertModel: ['mlm___cls']\n",
            "- This IS expected if you are initializing TFBertModel from the checkpoint of a model trained on another task or with another architecture (e.g. initializing a BertForSequenceClassification model from a BertForPreTraining model).\n",
            "- This IS NOT expected if you are initializing TFBertModel from the checkpoint of a model that you expect to be exactly identical (initializing a BertForSequenceClassification model from a BertForSequenceClassification model).\n",
            "Some layers of TFBertModel were not initialized from the model checkpoint at greekBERT_v2 and are newly initialized: ['pooler/dense/bias:0', 'pooler/dense/kernel:0']\n",
            "You should probably TRAIN this model on a down-stream task to be able to use it for predictions and inference.\n",
            "οι ενδοκρινικοί διαταράκτες είναι χημικές ουσίες (φυσικές ή συνθετικές), οι οποίες παρεμβαίνουν στην ομαλή λειτουργία του ορμονικού συστ\n",
            "(1, 768)\n",
            "(27, 768)\n",
            "['ουσίες φυσικές συνθετικές', 'ομαλή λειτουργία', 'ορμονικού', 'ενδοκρινικοί διαταράκτες χημικές', 'ενδοκρινικοί διαταράκτες']\n",
            "end\n"
          ],
          "name": "stdout"
        }
      ]
    },
    {
      "cell_type": "markdown",
      "metadata": {
        "id": "SHSswfYsNBn8"
      },
      "source": [
        "# Evaluation"
      ]
    },
    {
      "cell_type": "code",
      "metadata": {
        "colab": {
          "base_uri": "https://localhost:8080/"
        },
        "id": "vmnw5d18YhG5",
        "outputId": "64aedc7c-5320-476a-b4e1-a1e7ad0c4eb9"
      },
      "source": [
        "!cd keyword-extraction-with-greekBERT ; python evaluation.py -m nlpaueb/bert-base-greek-uncased-v1 -k 10"
      ],
      "execution_count": null,
      "outputs": [
        {
          "output_type": "stream",
          "text": [
            "2021-01-22 22:55:34.142719: I tensorflow/stream_executor/platform/default/dso_loader.cc:49] Successfully opened dynamic library libcudart.so.10.1\n",
            "[nltk_data] Downloading package stopwords to /root/nltk_data...\n",
            "[nltk_data]   Package stopwords is already up-to-date!\n",
            "2021-01-22 22:56:10.297172: I tensorflow/compiler/jit/xla_cpu_device.cc:41] Not creating XLA devices, tf_xla_enable_xla_devices not set\n",
            "2021-01-22 22:56:10.297431: I tensorflow/stream_executor/platform/default/dso_loader.cc:49] Successfully opened dynamic library libcuda.so.1\n",
            "2021-01-22 22:56:10.297602: I tensorflow/stream_executor/cuda/cuda_gpu_executor.cc:941] successful NUMA node read from SysFS had negative value (-1), but there must be at least one NUMA node, so returning NUMA node zero\n",
            "2021-01-22 22:56:10.298183: I tensorflow/core/common_runtime/gpu/gpu_device.cc:1720] Found device 0 with properties: \n",
            "pciBusID: 0000:00:04.0 name: Tesla T4 computeCapability: 7.5\n",
            "coreClock: 1.59GHz coreCount: 40 deviceMemorySize: 14.73GiB deviceMemoryBandwidth: 298.08GiB/s\n",
            "2021-01-22 22:56:10.298250: I tensorflow/stream_executor/platform/default/dso_loader.cc:49] Successfully opened dynamic library libcudart.so.10.1\n",
            "2021-01-22 22:56:10.298342: I tensorflow/stream_executor/platform/default/dso_loader.cc:49] Successfully opened dynamic library libcublas.so.10\n",
            "2021-01-22 22:56:10.298395: I tensorflow/stream_executor/platform/default/dso_loader.cc:49] Successfully opened dynamic library libcublasLt.so.10\n",
            "2021-01-22 22:56:10.298440: I tensorflow/stream_executor/platform/default/dso_loader.cc:49] Successfully opened dynamic library libcufft.so.10\n",
            "2021-01-22 22:56:10.298489: I tensorflow/stream_executor/platform/default/dso_loader.cc:49] Successfully opened dynamic library libcurand.so.10\n",
            "2021-01-22 22:56:10.298526: I tensorflow/stream_executor/platform/default/dso_loader.cc:49] Successfully opened dynamic library libcusolver.so.10\n",
            "2021-01-22 22:56:10.298562: I tensorflow/stream_executor/platform/default/dso_loader.cc:49] Successfully opened dynamic library libcusparse.so.10\n",
            "2021-01-22 22:56:10.298605: I tensorflow/stream_executor/platform/default/dso_loader.cc:49] Successfully opened dynamic library libcudnn.so.7\n",
            "2021-01-22 22:56:10.298709: I tensorflow/stream_executor/cuda/cuda_gpu_executor.cc:941] successful NUMA node read from SysFS had negative value (-1), but there must be at least one NUMA node, so returning NUMA node zero\n",
            "2021-01-22 22:56:10.299280: I tensorflow/stream_executor/cuda/cuda_gpu_executor.cc:941] successful NUMA node read from SysFS had negative value (-1), but there must be at least one NUMA node, so returning NUMA node zero\n",
            "2021-01-22 22:56:10.299779: I tensorflow/core/common_runtime/gpu/gpu_device.cc:1862] Adding visible gpu devices: 0\n",
            "2021-01-22 22:56:10.300156: I tensorflow/compiler/jit/xla_gpu_device.cc:99] Not creating XLA devices, tf_xla_enable_xla_devices not set\n",
            "2021-01-22 22:56:10.300311: I tensorflow/stream_executor/cuda/cuda_gpu_executor.cc:941] successful NUMA node read from SysFS had negative value (-1), but there must be at least one NUMA node, so returning NUMA node zero\n",
            "2021-01-22 22:56:10.300872: I tensorflow/core/common_runtime/gpu/gpu_device.cc:1720] Found device 0 with properties: \n",
            "pciBusID: 0000:00:04.0 name: Tesla T4 computeCapability: 7.5\n",
            "coreClock: 1.59GHz coreCount: 40 deviceMemorySize: 14.73GiB deviceMemoryBandwidth: 298.08GiB/s\n",
            "2021-01-22 22:56:10.300929: I tensorflow/stream_executor/platform/default/dso_loader.cc:49] Successfully opened dynamic library libcudart.so.10.1\n",
            "2021-01-22 22:56:10.300965: I tensorflow/stream_executor/platform/default/dso_loader.cc:49] Successfully opened dynamic library libcublas.so.10\n",
            "2021-01-22 22:56:10.301002: I tensorflow/stream_executor/platform/default/dso_loader.cc:49] Successfully opened dynamic library libcublasLt.so.10\n",
            "2021-01-22 22:56:10.301031: I tensorflow/stream_executor/platform/default/dso_loader.cc:49] Successfully opened dynamic library libcufft.so.10\n",
            "2021-01-22 22:56:10.301056: I tensorflow/stream_executor/platform/default/dso_loader.cc:49] Successfully opened dynamic library libcurand.so.10\n",
            "2021-01-22 22:56:10.301080: I tensorflow/stream_executor/platform/default/dso_loader.cc:49] Successfully opened dynamic library libcusolver.so.10\n",
            "2021-01-22 22:56:10.301107: I tensorflow/stream_executor/platform/default/dso_loader.cc:49] Successfully opened dynamic library libcusparse.so.10\n",
            "2021-01-22 22:56:10.301139: I tensorflow/stream_executor/platform/default/dso_loader.cc:49] Successfully opened dynamic library libcudnn.so.7\n",
            "2021-01-22 22:56:10.301235: I tensorflow/stream_executor/cuda/cuda_gpu_executor.cc:941] successful NUMA node read from SysFS had negative value (-1), but there must be at least one NUMA node, so returning NUMA node zero\n",
            "2021-01-22 22:56:10.301781: I tensorflow/stream_executor/cuda/cuda_gpu_executor.cc:941] successful NUMA node read from SysFS had negative value (-1), but there must be at least one NUMA node, so returning NUMA node zero\n",
            "2021-01-22 22:56:10.302357: I tensorflow/core/common_runtime/gpu/gpu_device.cc:1862] Adding visible gpu devices: 0\n",
            "2021-01-22 22:56:10.302419: I tensorflow/stream_executor/platform/default/dso_loader.cc:49] Successfully opened dynamic library libcudart.so.10.1\n",
            "2021-01-22 22:56:15.131276: I tensorflow/core/common_runtime/gpu/gpu_device.cc:1261] Device interconnect StreamExecutor with strength 1 edge matrix:\n",
            "2021-01-22 22:56:15.131334: I tensorflow/core/common_runtime/gpu/gpu_device.cc:1267]      0 \n",
            "2021-01-22 22:56:15.131349: I tensorflow/core/common_runtime/gpu/gpu_device.cc:1280] 0:   N \n",
            "2021-01-22 22:56:15.131616: I tensorflow/stream_executor/cuda/cuda_gpu_executor.cc:941] successful NUMA node read from SysFS had negative value (-1), but there must be at least one NUMA node, so returning NUMA node zero\n",
            "2021-01-22 22:56:15.132192: I tensorflow/stream_executor/cuda/cuda_gpu_executor.cc:941] successful NUMA node read from SysFS had negative value (-1), but there must be at least one NUMA node, so returning NUMA node zero\n",
            "2021-01-22 22:56:15.132791: I tensorflow/stream_executor/cuda/cuda_gpu_executor.cc:941] successful NUMA node read from SysFS had negative value (-1), but there must be at least one NUMA node, so returning NUMA node zero\n",
            "2021-01-22 22:56:15.133308: W tensorflow/core/common_runtime/gpu/gpu_bfc_allocator.cc:39] Overriding allow_growth setting because the TF_FORCE_GPU_ALLOW_GROWTH environment variable is set. Original config value was 0.\n",
            "2021-01-22 22:56:15.133363: I tensorflow/core/common_runtime/gpu/gpu_device.cc:1406] Created TensorFlow device (/job:localhost/replica:0/task:0/device:GPU:0 with 13165 MB memory) -> physical GPU (device: 0, name: Tesla T4, pci bus id: 0000:00:04.0, compute capability: 7.5)\n",
            "2021-01-22 22:56:15.308658: I tensorflow/stream_executor/platform/default/dso_loader.cc:49] Successfully opened dynamic library libcublas.so.10\n",
            "Some layers from the model checkpoint at nlpaueb/bert-base-greek-uncased-v1 were not used when initializing TFBertModel: ['mlm___cls', 'nsp___cls']\n",
            "- This IS expected if you are initializing TFBertModel from the checkpoint of a model trained on another task or with another architecture (e.g. initializing a BertForSequenceClassification model from a BertForPreTraining model).\n",
            "- This IS NOT expected if you are initializing TFBertModel from the checkpoint of a model that you expect to be exactly identical (initializing a BertForSequenceClassification model from a BertForSequenceClassification model).\n",
            "All the layers of TFBertModel were initialized from the model checkpoint at nlpaueb/bert-base-greek-uncased-v1.\n",
            "If your task is similar to the task the model of the checkpoint was trained on, you can already use TFBertModel for predictions without further training.\n",
            "100% 192/192 [29:15<00:00,  9.14s/it]\n",
            "Precision@10: 0.230\n",
            "Recall@10: 0.549\n",
            "F1@10: 0.324\n"
          ],
          "name": "stdout"
        }
      ]
    },
    {
      "cell_type": "code",
      "metadata": {
        "id": "acZsYSoRt0oS"
      },
      "source": [
        "!cd keyword-extraction-with-greekBERT ; python evaluation.py -m greekBERT_v2 -k 5"
      ],
      "execution_count": null,
      "outputs": []
    },
    {
      "cell_type": "code",
      "metadata": {
        "colab": {
          "base_uri": "https://localhost:8080/"
        },
        "id": "NqpE6kXs1kkJ",
        "outputId": "d15a7e6b-9087-4b1a-d0b8-50cc522d0eac"
      },
      "source": [
        "!cd keyword-extraction-with-greekBERT ; python evaluation.py -m yake -k 10"
      ],
      "execution_count": null,
      "outputs": [
        {
          "output_type": "stream",
          "text": [
            "2021-01-21 17:11:14.382568: I tensorflow/stream_executor/platform/default/dso_loader.cc:49] Successfully opened dynamic library libcudart.so.10.1\n",
            "100% 192/192 [00:04<00:00, 46.05it/s]\n",
            "Precision@10: 0.180\n",
            "Recall@10: 0.429\n",
            "F1@10: 0.253\n"
          ],
          "name": "stdout"
        }
      ]
    },
    {
      "cell_type": "code",
      "metadata": {
        "colab": {
          "base_uri": "https://localhost:8080/"
        },
        "id": "Uf64FNlb1rvs",
        "outputId": "ce1c075c-b46a-4f02-c011-406dad85f015"
      },
      "source": [
        "!cd keyword-extraction-with-greekBERT ; python evaluation.py -m rake -k 10"
      ],
      "execution_count": null,
      "outputs": [
        {
          "output_type": "stream",
          "text": [
            "2021-01-21 17:10:50.553443: I tensorflow/stream_executor/platform/default/dso_loader.cc:49] Successfully opened dynamic library libcudart.so.10.1\n",
            "100% 192/192 [00:00<00:00, 948.73it/s]\n",
            "Precision@10: 0.183\n",
            "Recall@10: 0.278\n",
            "F1@10: 0.221\n"
          ],
          "name": "stdout"
        }
      ]
    },
    {
      "cell_type": "code",
      "metadata": {
        "colab": {
          "base_uri": "https://localhost:8080/"
        },
        "id": "NBouRNea1t1E",
        "outputId": "003a6856-ca06-4425-e4c0-41d8f8a562f4"
      },
      "source": [
        "!cd keyword-extraction-with-greekBERT ; python evaluation.py -m textrank -k 10"
      ],
      "execution_count": null,
      "outputs": [
        {
          "output_type": "stream",
          "text": [
            "2021-01-21 17:09:24.147773: I tensorflow/stream_executor/platform/default/dso_loader.cc:49] Successfully opened dynamic library libcudart.so.10.1\n",
            "100% 192/192 [00:14<00:00, 12.88it/s]\n",
            "Precision@10: 0.246\n",
            "Recall@10: 0.543\n",
            "F1@10: 0.338\n"
          ],
          "name": "stdout"
        }
      ]
    },
    {
      "cell_type": "code",
      "metadata": {
        "colab": {
          "base_uri": "https://localhost:8080/"
        },
        "id": "QgSwft3iYcWe",
        "outputId": "b496e627-b9c0-409c-b5e9-893031d0bd8e"
      },
      "source": [
        " !cd keyword-extraction-with-greekBERT ; git pull"
      ],
      "execution_count": null,
      "outputs": [
        {
          "output_type": "stream",
          "text": [
            "remote: Enumerating objects: 5, done.\u001b[K\n",
            "remote: Counting objects:  20% (1/5)\u001b[K\rremote: Counting objects:  40% (2/5)\u001b[K\rremote: Counting objects:  60% (3/5)\u001b[K\rremote: Counting objects:  80% (4/5)\u001b[K\rremote: Counting objects: 100% (5/5)\u001b[K\rremote: Counting objects: 100% (5/5), done.\u001b[K\n",
            "remote: Compressing objects: 100% (1/1)\u001b[K\rremote: Compressing objects: 100% (1/1), done.\u001b[K\n",
            "remote: Total 3 (delta 2), reused 3 (delta 2), pack-reused 0\u001b[K\n",
            "Unpacking objects:  33% (1/3)   \rUnpacking objects:  66% (2/3)   \rUnpacking objects: 100% (3/3)   \rUnpacking objects: 100% (3/3), done.\n",
            "From https://github.com/CoGian/keyword-extraction-with-greekBERT\n",
            "   cbc6231..f8bd014  main       -> origin/main\n",
            "Updating cbc6231..f8bd014\n",
            "Fast-forward\n",
            " key_word_extraction.py | 6 \u001b[32m++\u001b[m\u001b[31m----\u001b[m\n",
            " 1 file changed, 2 insertions(+), 4 deletions(-)\n"
          ],
          "name": "stdout"
        }
      ]
    },
    {
      "cell_type": "code",
      "metadata": {
        "id": "1aLs-33aKwqH"
      },
      "source": [
        ""
      ],
      "execution_count": null,
      "outputs": []
    }
  ]
}